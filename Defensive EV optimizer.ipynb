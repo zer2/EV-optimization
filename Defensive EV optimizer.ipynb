{
 "cells": [
  {
   "cell_type": "markdown",
   "metadata": {},
   "source": [
    "# Intro\n",
    "\n",
    "This jupyter notebook can calculate optimal defense EVs for a pokemon, under a number of simplifying assumptions. If you want to skip straight to the calculator, navigate to the \"Using the Widget\" section two cells down\n",
    "\n",
    "## Optimal EV calculation\n",
    "\n",
    "When we give EVs to a defensive pokemon, we want to maximize the amount of damage it can take before fainting\n",
    "\n",
    "One way to optimize EVs is to do calculations with specific attacks (e.g. jolly excadrill max-steelspike), and tailor EVs to survive them. However, this is difficult to do if you are not sure what kind of attacks to expect\n",
    "\n",
    "Without specific attacks to base EVs on, we use heuristics. Most people have the general sense that adding to HP is the best, and then the optimal spread across Def/SpD depends on what kind of hits the pokemon is expecting to take. Can we quantify these instincts in a rigorous way?\n",
    "\n",
    "Simplifying the damage formula a bit, we can think of damage dealt as \"offense\" divided by \"defense\". Offense is a function of the attacking pokemon's attack, move power, type effectiveness, and other damage modifiers. Defense is the corresponding defense based on the type of attack, either physical or special defense\n",
    "\n",
    "Assume that a pokemon takes $L$ offense of which ratio $P$ is physical and $1-P$ is special (e.g. if a pokemon takes 400 offense of physical damage and 600 of special damage, $L$ = 1000 and $P$ = 0.4). It will take $\\frac{L * P}{Def} + \\frac{L*(1-P)}{SpD}$ damage. If this is at or above the pokemon's HP, the pokemon will faint. We want to maximize the value of L needed to faint the pokemon,  so we can define our problem as $max(L)$ where $\\frac{L * P}{Def} + \\frac{L*(1-P)}{SpD} = HP$ and $HP$, $Def$, and $SpD$ are constrained by the limits of EV and IV training. We can think of $L$ as a measure of longevity. The higher it is, the more offense a pokemon can take before fainting\n",
    "\n",
    "Unfortunately, the constraint is non-convex and thus the problem is difficult to optimize explicitly. Fortunately, the solution space is rather small, and a computer can quickly optimize this function by checking every sensible input\n",
    "\n",
    "If we solve for L as a function of $HP$, $Def$, and $SpD$, we can query the function for different EV and nature values and see which combination yields the highest L\n",
    "\n",
    "\\begin{equation}\n",
    "\\frac{L*P}{Def} + \\frac{L*(1-P)}{SpD} = HP \\\\[10pt]\n",
    "\\frac{L*P*SpD + L*(1-P)*Def}{Def*SpD} = HP \\\\[10pt]\n",
    "L*P*SpD + L*(1-P)*Def = HP*Def*SpD \\\\[10pt]\n",
    "L*(P*SpD + (1-P)*Def) = HP*Def*SpD \\\\[10pt]\n",
    "L = \\frac{HP*Def*SpD}{P*SpD + (1-P)*Def} \\\\[10pt]\n",
    "\\end{equation}\n",
    "\n",
    "The calculate function that you can call below iterates through sensible EV and nature choices, and spits out the set that maximizes L. Be sure to follow the instructions listed in the cell below it"
   ]
  },
  {
   "cell_type": "code",
   "execution_count": 1,
   "metadata": {},
   "outputs": [
    {
     "data": {
      "application/vnd.jupyter.widget-view+json": {
       "model_id": "5312d9bfd6664ccb8f96b61e239e5304",
       "version_major": 2,
       "version_minor": 0
      },
      "text/plain": [
       "BoundedIntText(value=160, description='HP:', max=1000, step=4, style=DescriptionStyle(description_width='initi…"
      ]
     },
     "metadata": {},
     "output_type": "display_data"
    },
    {
     "data": {
      "application/vnd.jupyter.widget-view+json": {
       "model_id": "54be24869ffa484ba6b0241cdf6db8c9",
       "version_major": 2,
       "version_minor": 0
      },
      "text/plain": [
       "BoundedIntText(value=110, description='Defense:', max=1000, step=4, style=DescriptionStyle(description_width='…"
      ]
     },
     "metadata": {},
     "output_type": "display_data"
    },
    {
     "data": {
      "application/vnd.jupyter.widget-view+json": {
       "model_id": "7d272c99a7a84c76be8f2e403b30bfd8",
       "version_major": 2,
       "version_minor": 0
      },
      "text/plain": [
       "BoundedIntText(value=115, description='Special Defense:', max=1000, step=4, style=DescriptionStyle(description…"
      ]
     },
     "metadata": {},
     "output_type": "display_data"
    },
    {
     "data": {
      "application/vnd.jupyter.widget-view+json": {
       "model_id": "d923709bef4e4b54b89c8fe31a51379d",
       "version_major": 2,
       "version_minor": 0
      },
      "text/plain": [
       "BoundedIntText(value=508, description='EVs available:', max=508, step=4, style=DescriptionStyle(description_wi…"
      ]
     },
     "metadata": {},
     "output_type": "display_data"
    },
    {
     "data": {
      "application/vnd.jupyter.widget-view+json": {
       "model_id": "26cb6aa49bf342eea95fb1876c41a8de",
       "version_major": 2,
       "version_minor": 0
      },
      "text/plain": [
       "Checkbox(value=True, description='Use + Defense/Special Defense Nature', style=DescriptionStyle(description_wi…"
      ]
     },
     "metadata": {},
     "output_type": "display_data"
    },
    {
     "data": {
      "application/vnd.jupyter.widget-view+json": {
       "model_id": "9acc03b542ce494a9bd07a0ec9e530a1",
       "version_major": 2,
       "version_minor": 0
      },
      "text/plain": [
       "FloatSlider(value=0.6, description='Physical Fraction (P):', max=1.0, step=0.01, style=SliderStyle(description…"
      ]
     },
     "metadata": {},
     "output_type": "display_data"
    },
    {
     "data": {
      "application/vnd.jupyter.widget-view+json": {
       "model_id": "015ade40f3eb4d20b7155095f1c576f4",
       "version_major": 2,
       "version_minor": 0
      },
      "text/plain": [
       "Button(description='Calculate', style=ButtonStyle())"
      ]
     },
     "metadata": {},
     "output_type": "display_data"
    },
    {
     "data": {
      "application/vnd.jupyter.widget-view+json": {
       "model_id": "09b0ffebaf0b4565a571a6e1582a28c1",
       "version_major": 2,
       "version_minor": 0
      },
      "text/plain": [
       "Text(value='', description='HP EVs:', disabled=True, style=DescriptionStyle(description_width='initial'))"
      ]
     },
     "metadata": {},
     "output_type": "display_data"
    },
    {
     "data": {
      "application/vnd.jupyter.widget-view+json": {
       "model_id": "8056b3bd20f84065bf25a1bf279c64b2",
       "version_major": 2,
       "version_minor": 0
      },
      "text/plain": [
       "Text(value='', description='Defense EVs:', disabled=True, style=DescriptionStyle(description_width='initial'))"
      ]
     },
     "metadata": {},
     "output_type": "display_data"
    },
    {
     "data": {
      "application/vnd.jupyter.widget-view+json": {
       "model_id": "b8e9c5952ab04868b5e33f14c8061ae2",
       "version_major": 2,
       "version_minor": 0
      },
      "text/plain": [
       "Text(value='', description='Special Defense EVs:', disabled=True, style=DescriptionStyle(description_width='in…"
      ]
     },
     "metadata": {},
     "output_type": "display_data"
    }
   ],
   "source": [
    "import ipywidgets as widgets\n",
    "from IPython.display import display\n",
    "\n",
    "individual_ev_max = 252\n",
    "\n",
    "def optimize_evs(hp, defense, special_defense, ev_max, individual_ev_max, physical_fraction, nature):\n",
    "    \n",
    "    best_damage_taken = 0\n",
    "\n",
    "    for hp_investment in range(0,int((min(individual_ev_max,ev_max)+4)/8 + 1)):\n",
    "        hp_evs = max(hp_investment*8-4,0)\n",
    "\n",
    "        for defense_investment in range(0, int((min(individual_ev_max,ev_max-hp_evs)+4)/8 + 1)):\n",
    "            \n",
    "            defense_evs = max(defense_investment*8-4,0)\n",
    "            \n",
    "            special_defense_evs = max(min(individual_ev_max,ev_max-hp_evs-defense_evs),0)\n",
    "            special_defense_investment = int((special_defense_evs+4)/8)\n",
    "\n",
    "            hp_total = hp + hp_investment\n",
    "            \n",
    "            for defense_nature in [True, False] if nature else [False]:\n",
    "                \n",
    "                defense_total = defense + defense_investment\n",
    "                special_defense_total = special_defense + special_defense_investment \n",
    "                \n",
    "                if defense_nature:\n",
    "                    defense_total = int(defense_total*1.1)\n",
    "                elif nature:\n",
    "                    special_defense_total = int(special_defense_total*1.1)\n",
    "                \n",
    "                denom = ((1-physical_fraction)*defense_total +(physical_fraction)*special_defense_total)\n",
    "                if (denom > 0):\n",
    "                    damage_taken = hp_total*defense_total*special_defense_total/denom\n",
    "\n",
    "                    if damage_taken >= best_damage_taken:\n",
    "                        best_damage_taken = damage_taken\n",
    "\n",
    "                        best_defense_evs = defense_evs\n",
    "                        best_special_defense_evs = special_defense_evs\n",
    "                        best_hp_evs = hp_evs\n",
    "                        best_nature = 'D' if defense_nature else 'SpD' if nature else None\n",
    "            \n",
    "    return best_hp_evs, best_defense_evs, best_special_defense_evs, best_nature\n",
    "\n",
    "style = {'description_width': 'initial'}\n",
    "\n",
    "hp = widgets.BoundedIntText(min = 0,\n",
    "                            max = 1000,\n",
    "                            step = 4,\n",
    "                            value=160,\n",
    "                            description='HP:',\n",
    "                            disabled=False,\n",
    "                            style = style\n",
    "                        )\n",
    "defense = widgets.BoundedIntText(min = 0,\n",
    "                            max = 1000,\n",
    "                            step = 4,\n",
    "                            value=110,\n",
    "                            description='Defense:',\n",
    "                            disabled=False,\n",
    "                            style = style\n",
    "\n",
    "                        )\n",
    "special_defense = widgets.BoundedIntText(\n",
    "                            min = 0,\n",
    "                            max = 1000,\n",
    "                            step = 4,\n",
    "                            value=115,\n",
    "                            description='Special Defense:',\n",
    "                            disabled=False,\n",
    "                            style = style\n",
    "\n",
    "                        )\n",
    "\n",
    "ev_max = widgets.BoundedIntText(\n",
    "                            value=508,\n",
    "                            min = 0,\n",
    "                            max = 508,\n",
    "                            step = 4,\n",
    "                            description='EVs available:',\n",
    "                            disabled=False,\n",
    "                            style = style\n",
    "\n",
    "                        )\n",
    "\n",
    "physical_fraction = widgets.FloatSlider(\n",
    "                            min=0,\n",
    "                            max=1,\n",
    "                            step = 0.01,\n",
    "                            readout_format='.2f',\n",
    "                            value = 0.6,\n",
    "                            description='Physical Fraction (P):',\n",
    "                            disabled=False,\n",
    "                            style = style\n",
    "                        )\n",
    "\n",
    "nature = widgets.Checkbox(\n",
    "                            value= True,\n",
    "                            description='Use + Defense/Special Defense Nature',\n",
    "                            disabled=False,\n",
    "                            style = style\n",
    "\n",
    "                        )\n",
    "\n",
    "button = widgets.Button(description = 'Calculate',\n",
    "                       style = style)\n",
    "\n",
    "hp_output = widgets.Text(description = 'HP EVs:'\n",
    "                        ,disabled = True\n",
    "                        ,style = style)\n",
    "\n",
    "defense_output = widgets.Text(description = 'Defense EVs:'\n",
    "                        ,disabled = True\n",
    "                        ,style = style)\n",
    "\n",
    "special_defense_output = widgets.Text(description = 'Special Defense EVs:'\n",
    "                        ,disabled = True\n",
    "                        ,style = style)\n",
    "\n",
    "def on_button_clicked(b):\n",
    "    \n",
    "    hp_val, def_val, spd_val, n = optimize_evs(hp.value\n",
    "                               ,defense.value\n",
    "                               ,special_defense.value\n",
    "                               ,ev_max.value\n",
    "                               ,individual_ev_max\n",
    "                               ,physical_fraction.value\n",
    "                               ,nature.value\n",
    "                )\n",
    "    hp_output.value = str(hp_val)\n",
    "    defense_output.value = str(def_val) + '+' if n == 'D' else str(def_val)\n",
    "    special_defense_output.value = str(spd_val) + '+' if n == 'SpD' else str(spd_val)\n",
    "\n",
    "button.on_click(on_button_clicked)\n",
    "\n",
    "display(hp)\n",
    "display(defense)\n",
    "display(special_defense)\n",
    "display(ev_max)\n",
    "display(nature)\n",
    "display(physical_fraction)\n",
    "display(button)\n",
    "display(hp_output)\n",
    "display(defense_output)\n",
    "display(special_defense_output)"
   ]
  },
  {
   "cell_type": "markdown",
   "metadata": {},
   "source": [
    "## Using the Widget \n",
    "\n",
    "IMPORTANT INSTRUCTIONS: \n",
    "- You need to wait until the page fully loads to use the calculator. If the page is still loading, you will see spinning circles at the top\n",
    "- To use the EV optimizer widget above, select the code cell above it and press SHIFT-ENTER. A number of controllable widgets should appear, along with a button that says 'calculate'. Hit calculate to run the optimization function\n",
    "\n",
    "Widget fields\n",
    "- HP, Defense, and Special Defense are the pokemon's original values of the statistic, before any EVs are added\n",
    "- EVs available is how many EVs you can devote to defense\n",
    "    - In many circumstances, this number will be 508. However if you want to EV for another stat like attack, you need to subtract that amount from 508 to get the remaining EVs. For example if I want to give my porygon2 100 EVs of special attack, I have 408 EVs remaining\n",
    "- Check the 'Use + Defense/Special Defense Nature' if you can use a nature to improve defenses, like bold (+ Def,- Atk) or sassy (+ SpD, - Spe)\n",
    "- The physical fraction (P) is the fraction of offense which is physical\n",
    "    - This factors in typing. For example if you expect 50% physical super-effective physical attacks and 50% normally effective special attacks, in total physical attacks account for 67% of the total offense ($\\frac{0.5*2}{0.5*2+0.5}$)\n",
    "    - PS: You can control the Physical Fraction ratio manually by right-clicking the number on the right, typing a new fraction, and hitting enter\n",
    "- The EV fields will be populated after hitting 'calculate'. These contain the calculated optimal EV values. If a value is followed by '+', that means the stat is also boosted by a nature\n",
    "\n",
    "Caveats\n",
    "- The calculate function only returns one optimal set- there may be other(s) which are equally optimal but not shown\n",
    "- This calculator is for vgc and pokemon are assumed to be lvl. 50\n",
    "\n",
    "**************\n",
    "\n",
    "## Example: Porygon2\n",
    "\n",
    "The default values are for my porygon2. With perfect IV's and no EV's, my porygon2 has 160 HP, 110 Defense, and 115 Special defense (we don't have to worry about eviolite because adding 50% to Def and SpD will allow porygon to take 50% more offense no matter what). I expect it to take 60% of opposing offense from physical attacks, because porygon2 is weak to fighting and fighting attacks are mostly physical \n",
    "\n",
    "Hit the 'calculate' button with the default parameters to get a spread for my porygon2. the spread should be 252 HP, 236+ Def , and 20 SpD. This makes intuitive sense because we expect more physical attacks and porygon2's defense starts lower than its special defense \n",
    "\n",
    "Now if I feel like it, I can look up specific calculations and make adjustments. For example, I am curious about porygon-Z. I see that a modest life orb porygon-Z has a 25% chance of 0HKOing this porygon. Porygon-Z is 8% of the metagame, and roughly half are modest, so this will be relevant 4% of the time and result in an 0HKO 1% of the time if PZ always attacks P2. Adding 16 SpD EVs would reduce to chance of an 0HKO to 12.5%, so I might change the spread manually to (252,220,36,' + Defense Nature') if I am concerned about this\n",
    "\n",
    "*****************\n",
    "\n",
    "## Insights\n",
    "\n",
    "### The importance of rounding\n",
    "\n",
    "If you play around with the numbers a bit, you might notice the distribution changing a surprising amount with little change in input variables. For example, try inputting (160,110,115,332,0.5) and (160,110,115,340,0.5). The result is (252,20+,60) for the first and (252,76+,12) for the second. Why would the code change the distribution so drastically with one extra stat point to invest? \n",
    "\n",
    "The reason is that 76+ defense generates a defense stat of exactly 132 before rounding, which is efficient because nothing is lost from rounding. That benefit can be enough to entice the optimizer to change the spread significantly when it becomes feasible without sacrificing too much special defense investment\n",
    "\n",
    "### Combining defenses with the harmonic mean\n",
    "\n",
    "It is useful to evaluate a pokemon's defenses by synthesizing the SpD and Def stats into an \"overall defense\" metric. Taking the average might seem like a natural way to combine the two. However, it doesn't reflect the reality that the pokemon will faint more quickly by the path of least resistance. For example, a pokemon with 1 D and 1,000,000 SpD will faint quickly to a combined barrage of special and physical attacks, while a pokemon with 1,000 D and 1,000 SpD will take many hits before fainting. The math above points us to a different way of combining defenses, which accurately measures its effect on longevity under a mixed set of attacks. Assuming $P = 0.5$:\n",
    "\n",
    "\\begin{equation}\n",
    "L = \\frac{HP*Def*SpD}{P*SpD + (1-P)*Def} \\\\[10pt]\n",
    "L = \\frac{HP*Def*SpD}{\\frac{Def}{2} + \\frac{SpD}{2}} \\\\[10pt]\n",
    "L = HP * 2* \\frac{Def*SpD}{Def + SpD} \\\\[10pt]\n",
    "L = HP * \\frac{2}{\\frac{1}{Def} + \\frac{1}{SpD}} \\\\[10pt]\n",
    "\\end{equation}\n",
    "\n",
    "$\\frac{2}{\\frac{1}{Def} + \\frac{1}{SpD}}$ is called the harmonic mean of $Def$ and $SpD$. This is the sensible way of combining the two, because we can see it has a linear effect on longevity. If we want to add $P$ back to the definition, it creates a weighted harmonic mean which looks like this\n",
    "\n",
    "\\begin{equation}\n",
    "\\frac{1}{\\frac{1-P}{SpD} + \\frac{P}{Def}}\n",
    "\\end{equation}\n",
    "\n",
    "### A connection to circuits\n",
    "\n",
    "If you have studied electricity, you may recognize the harmonic mean from the formula for resistance across a parallel circuit: $R_t = \\frac{1}{\\frac{1}{R_1} + \\frac{1}{R_2}}$ (The resistance of parallel resistors is the harmonic mean of individual resistances divided by the number of resistors, which is why it has no $2$ in the numerator and is not exactly the same as our defense formula. Still, it is quite similar). Thinking of $D_t$ as the \"total defense\" such that $HP * D_t = L$, we can derive formulas for $R_t$ and $D_t$ with the same steps. Note that HP here means \"HP that needs to be lost before fainting\", so we can break it down into components $HP_{Def}$ and $HP_{SpD}$ which represent the HP that our pokemon will lose in both categories before fainting, again assuming $P = 0.5$\n",
    "\n",
    "For those unfamiliar with E&M, $I$ is a symbol for current and $V$ is a symbol for Voltage. They are linked by Ohm's law, which states $V = IR$ \n",
    "\n",
    "\\begin{align}\n",
    "I = I_1 + I_2 && HP = HP_{Def} + HP_{SpD} \\\\[10pt]\n",
    "I = \\frac{V}{R_1} +  \\frac{V}{R_2} && HP = \\frac{L}{2*D} +  \\frac{L}{2*SpD}\\\\[10pt]\n",
    "I = V * (\\frac{1}{R_1} +  \\frac{1}{R_2}) && HP = L*(\\frac{1}{2*D} +  \\frac{1}{2*SpD})\\\\[10pt]\n",
    "\\frac{I}{V} = (\\frac{1}{R_1} +  \\frac{1}{R_2}) && \\frac{HP}{L} = (\\frac{1}{2*D} +  \\frac{1}{2*SpD}) \\\\[10pt]\n",
    "\\frac{V}{I} = \\frac{1}{\\frac{1}{R_1} +  \\frac{1}{R_2}} && \\frac{L}{HP} = \\frac{1}{\\frac{1}{2*D} +  \\frac{1}{2*SpD}} \\\\[10pt]\n",
    "R_t = \\frac{1}{\\frac{1}{R_1} + \\frac{1}{R_2}} && D_t = \\frac{2}{\\frac{1}{D} + \\frac{1}{SpD}}\n",
    "\\end{align}"
   ]
  }
 ],
 "metadata": {
  "kernelspec": {
   "display_name": "Python 3",
   "language": "python",
   "name": "python3"
  },
  "language_info": {
   "codemirror_mode": {
    "name": "ipython",
    "version": 3
   },
   "file_extension": ".py",
   "mimetype": "text/x-python",
   "name": "python",
   "nbconvert_exporter": "python",
   "pygments_lexer": "ipython3",
   "version": "3.7.0"
  }
 },
 "nbformat": 4,
 "nbformat_minor": 2
}
