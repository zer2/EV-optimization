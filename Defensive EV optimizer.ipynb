{
 "cells": [
  {
   "cell_type": "markdown",
   "metadata": {},
   "source": [
    "IMPORTANT INSTRUCTIONS: To use the EV optimizer widget at the bottom of the page, select the code cell above it and press SHIFT-ENTER. A number of controllable widgets should appear, along with a button that says 'calculate'. Hit calculate to run the optimization function\n",
    "\n",
    "The text below explains what the widget is doing\n",
    "\n",
    "***************************************\n",
    "\n",
    "When we give EVs to a defensive pokemon, we want to maximize the amount of damage it can take before fainting\n",
    "\n",
    "One way to optimize EVs is to do calculations with specific attacks (e.g. jolly excadrill max-steelspike), and tailor EVs to survive them. However, this is difficult to do if you are not sure what kind of attacks to expect\n",
    "\n",
    "Without specific attacks to base EVs on, we use heuristics. Most people have the general sense that adding to HP is the best, and then the optimal spread across Def/SpD depends on what kind of hits the pokemon is expecting to take. Can we quantify these instincts in a rigorous way?\n",
    "\n",
    "Simplifying the damage formula a bit, we can think of damage dealt as \"offense\" divided by \"defense\". Offense is a function of the attacking pokemon's attack, move power, type effectiveness, and other damage modifiers. Defense is the corresponding defense based on the type of attack, either physical or special defense. \n",
    "\n",
    "Assume that a pokemon takes $X$ offense of which ratio $P$ is physical and $1-P$ is special (e.g. if a pokemon takes 400 offense of physical damage and 600 of special damage, $X$ = 1000 and $P$ = 0.4). It will take $\\frac{X * P}{Def} + \\frac{X*(1-P)}{SpD}$ damage. If this is at or above the pokemon's HP, the pokemon will faint. We want to maximize the value of X needed to faint the pokemon,  so we can define our problem as $max(X)$ where $\\frac{X * P}{Def} + \\frac{X*(1-P)}{SpD} = HP$ and $HP$, $Def$, and $SpD$ are constrained by the limits of EV and IV training\n",
    "\n",
    "Unfortunately, the constraint is non-convex and thus the problem is difficult to optimize explicitly. Fortunately, the solution space is rather small, and a computer can quickly optimize this function by checking every sensible input\n",
    "\n",
    "If we solve for X as a function of $HP$/$Def$/$SpD$, we can query the function for different EV and nature values and see which combination yields the highest X\n",
    "\n",
    "\\begin{equation}\n",
    "\\frac{X*P}{Def} + \\frac{X*(1-P)}{SpD} = HP \\\\[10pt]\n",
    "\\frac{X*P*SpD + X*(1-P)*Def}{Def*SpD} = HP \\\\[10pt]\n",
    "X*P*SpD + X*(1-P)*Def = HP*Def*SpD \\\\[10pt]\n",
    "X*(P*SpD + (1-P)*Def) = HP*Def*SpD \\\\[10pt]\n",
    "X = \\frac{HP*Def*SpD}{P*SpD + (1-P)*Def} \\\\[10pt]\n",
    "\\end{equation}\n",
    "\n",
    "The function below iterates through sensible EV and nature choices, and spits out the set that maximizes X. Note that the function only returns one optimal set- there may be other(s) which are equally optimal but not shown"
   ]
  },
  {
   "cell_type": "code",
   "execution_count": 30,
   "metadata": {},
   "outputs": [
    {
     "data": {
      "application/vnd.jupyter.widget-view+json": {
       "model_id": "d0e5ad6ab2204694a7581ec6491c7cd8",
       "version_major": 2,
       "version_minor": 0
      },
      "text/plain": [
       "BoundedIntText(value=160, description='No EV HP:', max=1000, step=4, style=DescriptionStyle(description_width=…"
      ]
     },
     "metadata": {},
     "output_type": "display_data"
    },
    {
     "data": {
      "application/vnd.jupyter.widget-view+json": {
       "model_id": "1fdd9e0d07a04c99bd0fea0a3930dea8",
       "version_major": 2,
       "version_minor": 0
      },
      "text/plain": [
       "BoundedIntText(value=110, description='No EV Defense:', max=1000, step=4, style=DescriptionStyle(description_w…"
      ]
     },
     "metadata": {},
     "output_type": "display_data"
    },
    {
     "data": {
      "application/vnd.jupyter.widget-view+json": {
       "model_id": "c5d01ecbca714681ad4d1461bffecd56",
       "version_major": 2,
       "version_minor": 0
      },
      "text/plain": [
       "BoundedIntText(value=115, description='No EV Special Defense:', max=1000, step=4, style=DescriptionStyle(descr…"
      ]
     },
     "metadata": {},
     "output_type": "display_data"
    },
    {
     "data": {
      "application/vnd.jupyter.widget-view+json": {
       "model_id": "c6416b9c4e0d447faf92a0d5685c40d5",
       "version_major": 2,
       "version_minor": 0
      },
      "text/plain": [
       "BoundedIntText(value=508, description='EVs available:', max=508, step=4, style=DescriptionStyle(description_wi…"
      ]
     },
     "metadata": {},
     "output_type": "display_data"
    },
    {
     "data": {
      "application/vnd.jupyter.widget-view+json": {
       "model_id": "418fd745a249426ba2b16af51802eafe",
       "version_major": 2,
       "version_minor": 0
      },
      "text/plain": [
       "Checkbox(value=True, description='Use Defensive Nature', style=DescriptionStyle(description_width='initial'))"
      ]
     },
     "metadata": {},
     "output_type": "display_data"
    },
    {
     "data": {
      "application/vnd.jupyter.widget-view+json": {
       "model_id": "10768dae4c92492aa9da8e5735fff92b",
       "version_major": 2,
       "version_minor": 0
      },
      "text/plain": [
       "FloatSlider(value=0.6, description='Physical Fraction:', max=1.0, step=0.01, style=SliderStyle(description_wid…"
      ]
     },
     "metadata": {},
     "output_type": "display_data"
    },
    {
     "data": {
      "application/vnd.jupyter.widget-view+json": {
       "model_id": "2932881a49e34ddab38a3edac4944ed9",
       "version_major": 2,
       "version_minor": 0
      },
      "text/plain": [
       "Button(description='Calculate', style=ButtonStyle())"
      ]
     },
     "metadata": {},
     "output_type": "display_data"
    },
    {
     "data": {
      "application/vnd.jupyter.widget-view+json": {
       "model_id": "236632c8afa0452a92523809d8349ffb",
       "version_major": 2,
       "version_minor": 0
      },
      "text/plain": [
       "Text(value='', description='HP EVs:', disabled=True, style=DescriptionStyle(description_width='initial'))"
      ]
     },
     "metadata": {},
     "output_type": "display_data"
    },
    {
     "data": {
      "application/vnd.jupyter.widget-view+json": {
       "model_id": "8a4c1e2cb34c4cb9a2ae4f874d600ac8",
       "version_major": 2,
       "version_minor": 0
      },
      "text/plain": [
       "Text(value='', description='Defense EVs:', disabled=True, style=DescriptionStyle(description_width='initial'))"
      ]
     },
     "metadata": {},
     "output_type": "display_data"
    },
    {
     "data": {
      "application/vnd.jupyter.widget-view+json": {
       "model_id": "2be265319dd14f4ea970f233e92e2b2e",
       "version_major": 2,
       "version_minor": 0
      },
      "text/plain": [
       "Text(value='', description='Special Defense EVs:', disabled=True, style=DescriptionStyle(description_width='in…"
      ]
     },
     "metadata": {},
     "output_type": "display_data"
    },
    {
     "name": "stdout",
     "output_type": "stream",
     "text": [
      "SpD\n"
     ]
    }
   ],
   "source": [
    "import ipywidgets as widgets\n",
    "from IPython.display import display\n",
    "\n",
    "individual_ev_max = 252\n",
    "\n",
    "def optimize_evs(hp, defense, special_defense, ev_max, individual_ev_max, physical_fraction, nature):\n",
    "    \n",
    "    best_damage_taken = 0\n",
    "\n",
    "    for hp_investment in range(0,int((min(individual_ev_max,ev_max)+4)/8 + 1)):\n",
    "        hp_evs = max(hp_investment*8-4,0)\n",
    "\n",
    "        for defense_investment in range(0, int((min(individual_ev_max,ev_max-hp_evs)+4)/8 + 1)):\n",
    "            \n",
    "            defense_evs = max(defense_investment*8-4,0)\n",
    "            \n",
    "            special_defense_evs = max(min(individual_ev_max,ev_max-hp_evs-defense_evs),0)\n",
    "            special_defense_investment = int((special_defense_evs+4)/8)\n",
    "\n",
    "            hp_total = hp + hp_investment\n",
    "            \n",
    "            for defense_nature in [True, False] if nature else [False]:\n",
    "                \n",
    "                defense_total = defense + defense_investment\n",
    "                special_defense_total = special_defense + special_defense_investment \n",
    "                \n",
    "                if defense_nature:\n",
    "                    defense_total = int(defense_total*1.1)\n",
    "                elif nature:\n",
    "                    special_defense_total = int(special_defense_total*1.1)\n",
    "                    \n",
    "                damage_taken = hp_total*defense_total*special_defense_total/ \\\n",
    "                                ((1-physical_fraction)*defense_total +(physical_fraction)*special_defense_total)\n",
    "\n",
    "                if damage_taken >= best_damage_taken:\n",
    "                    best_damage_taken = damage_taken\n",
    "\n",
    "                    best_defense_evs = defense_evs\n",
    "                    best_special_defense_evs = special_defense_evs\n",
    "                    best_hp_evs = hp_evs\n",
    "                    best_nature = 'D' if defense_nature else 'SpD' if nature else None\n",
    "            \n",
    "    return best_hp_evs, best_defense_evs, best_special_defense_evs, best_nature\n",
    "\n",
    "style = {'description_width': 'initial'}\n",
    "\n",
    "hp = widgets.BoundedIntText(min = 0,\n",
    "                            max = 1000,\n",
    "                            step = 4,\n",
    "                            value=160,\n",
    "                            description='No EV HP:',\n",
    "                            disabled=False,\n",
    "                            style = style\n",
    "                        )\n",
    "defense = widgets.BoundedIntText(min = 0,\n",
    "                            max = 1000,\n",
    "                            step = 4,\n",
    "                            value=110,\n",
    "                            description='No EV Defense:',\n",
    "                            disabled=False,\n",
    "                            style = style\n",
    "\n",
    "                        )\n",
    "special_defense = widgets.BoundedIntText(\n",
    "                            min = 0,\n",
    "                            max = 1000,\n",
    "                            step = 4,\n",
    "                            value=115,\n",
    "                            description='No EV Special Defense:',\n",
    "                            disabled=False,\n",
    "                            style = style\n",
    "\n",
    "                        )\n",
    "\n",
    "ev_max = widgets.BoundedIntText(\n",
    "                            value=508,\n",
    "                            min = 0,\n",
    "                            max = 508,\n",
    "                            step = 4,\n",
    "                            description='EVs available:',\n",
    "                            disabled=False,\n",
    "                            style = style\n",
    "\n",
    "                        )\n",
    "\n",
    "physical_fraction = widgets.FloatSlider(\n",
    "                            min=0,\n",
    "                            max=1,\n",
    "                            step = 0.01,\n",
    "                            readout_format='.2f',\n",
    "                            value = 0.6,\n",
    "                            description='Physical Fraction:',\n",
    "                            disabled=False,\n",
    "                            style = style\n",
    "                        )\n",
    "\n",
    "nature = widgets.Checkbox(\n",
    "                            value= True,\n",
    "                            description='Use Defensive Nature',\n",
    "                            disabled=False,\n",
    "                            style = style\n",
    "\n",
    "                        )\n",
    "\n",
    "button = widgets.Button(description = 'Calculate',\n",
    "                       style = style)\n",
    "\n",
    "hp_output = widgets.Text(description = 'HP EVs:'\n",
    "                        ,disabled = True\n",
    "                        ,style = style)\n",
    "\n",
    "defense_output = widgets.Text(description = 'Defense EVs:'\n",
    "                        ,disabled = True\n",
    "                        ,style = style)\n",
    "\n",
    "special_defense_output = widgets.Text(description = 'Special Defense EVs:'\n",
    "                        ,disabled = True\n",
    "                        ,style = style)\n",
    "\n",
    "def on_button_clicked(b):\n",
    "    \n",
    "    hp_val, def_val, spd_val, n = optimize_evs(hp.value\n",
    "                               ,defense.value\n",
    "                               ,special_defense.value\n",
    "                               ,ev_max.value\n",
    "                               ,individual_ev_max\n",
    "                               ,physical_fraction.value\n",
    "                               ,nature.value\n",
    "                )\n",
    "    hp_output.value = str(hp_val)\n",
    "    defense_output.value = str(def_val) + '+' if n == 'D' else str(def_val)\n",
    "    special_defense_output.value = str(spd_val) + '+' if n == 'SpD' else str(spd_val)\n",
    "\n",
    "button.on_click(on_button_clicked)\n",
    "\n",
    "display(hp)\n",
    "display(defense)\n",
    "display(special_defense)\n",
    "display(ev_max)\n",
    "display(nature)\n",
    "display(physical_fraction)\n",
    "display(button)\n",
    "display(hp_output)\n",
    "display(defense_output)\n",
    "display(special_defense_output)"
   ]
  },
  {
   "cell_type": "markdown",
   "metadata": {},
   "source": [
    "The default values are for my porygon2. With perfect IV's and no EV's, my porygon2 has 160 HP, 110 Defense, and 115 Special defense. I expect it to take 60% of opposing offense from physical attacks, because porygon2 is weak to fighting and fighting attacks are mostly physical\n",
    "\n",
    "Hit the 'calculate' button with the default parameters to get a spread for my porygon2. the spread should be 252 HP, 236+ Def (the + indicates a physically defensive nature such as bold), and 20 SpD. This makes intuitive sense because we expect more physical attacks and porygon2's defense starts lower than its special defense \n",
    "\n",
    "Now if I feel like it, I can look up specific calculations and make adjustments. For example, I am curious about porygon-Z. I see that a modest life orb porygon-Z has a 25% chance of 0HKOing this porygon. Porygon-Z is 8% of the metagame, and roughly half are modest, so this will be relevant 4% of the time and result in an 0HKO 1% of the time if PZ always attacks P2. Adding 16 SpD EVs would reduce to chance of an 0HKO to 12.5%, so I might change the spread manually to (252,220,36,' + Defense Nature') if I am concerned about this"
   ]
  }
 ],
 "metadata": {
  "kernelspec": {
   "display_name": "Python 3",
   "language": "python",
   "name": "python3"
  },
  "language_info": {
   "codemirror_mode": {
    "name": "ipython",
    "version": 3
   },
   "file_extension": ".py",
   "mimetype": "text/x-python",
   "name": "python",
   "nbconvert_exporter": "python",
   "pygments_lexer": "ipython3",
   "version": "3.7.0"
  }
 },
 "nbformat": 4,
 "nbformat_minor": 2
}
